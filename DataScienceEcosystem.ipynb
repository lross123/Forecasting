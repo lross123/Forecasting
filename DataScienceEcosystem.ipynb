{
  "cells": [
    {
      "cell_type": "markdown",
      "id": "451507cb-fe8e-4605-b82a-2e3b7c84fc31",
      "metadata": {},
      "source": [
        "# Data Science Tools and Ecosystem"
      ]
    },
    {
      "cell_type": "markdown",
      "id": "7fa7c8af-3c3b-4b62-b092-3b97ca0c2da6",
      "metadata": {},
      "source": [
        "In this notebook, Data Science Tools and Ecosystem are summarized."
      ]
    },
    {
      "cell_type": "markdown",
      "id": "0d934e53-6ddc-4b69-80de-d06a884b2d54",
      "metadata": {},
      "source": [
        "**Objectives:**\n",
        "- List Popular Languages for Data Science\n",
        "- List of commonly used libraries used by Data Scientists\n",
        "- Data Science Tools\n",
        "- Arithmetic Expression in Python"
      ]
    },
    {
      "cell_type": "markdown",
      "id": "d5a6c588-8fdd-49c4-a1fa-309f69657351",
      "metadata": {},
      "source": [
        "Some of the popular languages that Data Scientists use are:\n",
        "1. Python\n",
        "2. R Language\n",
        "3. SQL"
      ]
    },
    {
      "cell_type": "markdown",
      "id": "ca18a429-bd77-45ce-8678-e65f72dc30de",
      "metadata": {},
      "source": [
        "Some of the commonly used libraries used by Data Scientists include:\n",
        "1. Pandas\n",
        "2. NumPy\n",
        "3. Matplotlib"
      ]
    },
    {
      "cell_type": "markdown",
      "id": "11cc5ca2-b609-4fb0-b8fe-40b54fbcbebe",
      "metadata": {},
      "source": [
        "|Data Science Tools|\n",
        "|------|\n",
        "|Jupyter Notebook|\n",
        "|RStudio|\n",
        "|VS Code|"
      ]
    },
    {
      "cell_type": "markdown",
      "id": "80a654bb-2796-4e2e-bc09-9377ba7cd7f1",
      "metadata": {},
      "source": [
        "### Below are a few examples of evaluating arithmetic expressions in Python"
      ]
    },
    {
      "cell_type": "code",
      "execution_count": 6,
      "id": "464b8d8f-80c9-4ad9-b66c-5fc36bcd2c83",
      "metadata": {
        "trusted": true
      },
      "outputs": [
        {
          "data": {
            "text/plain": [
              "17"
            ]
          },
          "execution_count": 6,
          "metadata": {},
          "output_type": "execute_result"
        }
      ],
      "source": [
        "# This is a simple arithmetic expression to multiply then add integers.\n",
        "(3*4)+5"
      ]
    },
    {
      "cell_type": "code",
      "execution_count": 7,
      "id": "e5309a19-e78e-4832-a200-1c99a43cbb37",
      "metadata": {
        "trusted": true
      },
      "outputs": [
        {
          "data": {
            "text/plain": [
              "3.3333333333333335"
            ]
          },
          "execution_count": 7,
          "metadata": {},
          "output_type": "execute_result"
        }
      ],
      "source": [
        "# This will convert 200 minutes to hours by diving by 60.\n",
        "200/60"
      ]
    }
  ],
  "metadata": {
    "kernelspec": {
      "display_name": "Python (Pyodide)",
      "language": "python",
      "name": "python"
    },
    "language_info": {
      "codemirror_mode": {
        "name": "python",
        "version": 3
      },
      "file_extension": ".py",
      "mimetype": "text/x-python",
      "name": "python",
      "nbconvert_exporter": "python",
      "pygments_lexer": "ipython3",
      "version": "3.8"
    }
  },
  "nbformat": 4,
  "nbformat_minor": 5
}
